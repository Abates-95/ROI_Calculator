{
 "cells": [
  {
   "cell_type": "code",
   "execution_count": 1,
   "id": "e313ecd7",
   "metadata": {},
   "outputs": [
    {
     "name": "stdout",
     "output_type": "stream",
     "text": [
      "\n",
      "Please do NOT use a comma ',' to separate digits. EXAPMLE: 50000 \n",
      "\n",
      "What is the total invested? 50000\n",
      "What is your total monthly income? 2000\n",
      "What are your monthly expenses? 1610\n",
      "\n",
      "The ROI for this property is 9.36%\n"
     ]
    }
   ],
   "source": [
    "class Property():\n",
    "    \"\"\"\n",
    "    The Property class asks for a user to input the \n",
    "    total_invested, monthly_income and monthly_expenses \n",
    "    as in integer with no commas seperating the digits\n",
    "    and will return the users ROI as a float\n",
    "\n",
    "    \"\"\"\n",
    "    def __init__(self, total_invested, monthly_income, monthly_expenses):\n",
    "        self.total_invested = total_invested\n",
    "        self.monthly_income = monthly_income\n",
    "        self.monthly_expenses = monthly_expenses\n",
    "        \n",
    "    def calculate_roi(self):\n",
    "        annual_rent = self.monthly_income * 12\n",
    "        annual_expenses = self.monthly_expenses * 12\n",
    "        net_income = annual_rent - annual_expenses\n",
    "        roi = (net_income / self.total_invested) * 100\n",
    "        return roi\n",
    "\n",
    "print(\"\\nPlease do NOT use a comma ',' to separate digits. EXAPMLE: 50000 \\n\")\n",
    "property1 = Property(int(input(\"What is the total invested? \")), \n",
    "                         int(input(\"What is your total monthly income? \")), \n",
    "                         int(input(\"What are your monthly expenses? \")))\n",
    "\n",
    "\n",
    "roi = property1.calculate_roi()\n",
    "print(f\"\\nThe ROI for this property is {roi}%\")"
   ]
  },
  {
   "cell_type": "code",
   "execution_count": null,
   "id": "860ac316",
   "metadata": {},
   "outputs": [],
   "source": []
  }
 ],
 "metadata": {
  "kernelspec": {
   "display_name": "Python 3 (ipykernel)",
   "language": "python",
   "name": "python3"
  },
  "language_info": {
   "codemirror_mode": {
    "name": "ipython",
    "version": 3
   },
   "file_extension": ".py",
   "mimetype": "text/x-python",
   "name": "python",
   "nbconvert_exporter": "python",
   "pygments_lexer": "ipython3",
   "version": "3.9.13"
  }
 },
 "nbformat": 4,
 "nbformat_minor": 5
}
